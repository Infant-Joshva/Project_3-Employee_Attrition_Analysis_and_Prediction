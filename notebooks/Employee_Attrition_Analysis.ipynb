{
  "nbformat": 4,
  "nbformat_minor": 0,
  "metadata": {
    "colab": {
      "provenance": [],
      "toc_visible": true,
      "authorship_tag": "ABX9TyMYh3RDY27zURS657MyjP+Y",
      "include_colab_link": true
    },
    "kernelspec": {
      "name": "python3",
      "display_name": "Python 3"
    },
    "language_info": {
      "name": "python"
    }
  },
  "cells": [
    {
      "cell_type": "markdown",
      "metadata": {
        "id": "view-in-github",
        "colab_type": "text"
      },
      "source": [
        "<a href=\"https://colab.research.google.com/github/Infant-Joshva/Project_3-Employee_Attrition_Analysis_and_Prediction/blob/main/notebooks/Employee_Attrition_Analysis.ipynb\" target=\"_parent\"><img src=\"https://colab.research.google.com/assets/colab-badge.svg\" alt=\"Open In Colab\"/></a>"
      ]
    },
    {
      "cell_type": "markdown",
      "source": [
        "# Project(Employee Attrition ML Model) Initialation and Data Cleaning"
      ],
      "metadata": {
        "id": "tAqfkOQxtRzg"
      }
    },
    {
      "cell_type": "markdown",
      "source": [
        "#### Importing Necessary Packages"
      ],
      "metadata": {
        "id": "slsAOLqLtdYd"
      }
    },
    {
      "cell_type": "code",
      "execution_count": null,
      "metadata": {
        "id": "S-TCLEsFnjZ3"
      },
      "outputs": [],
      "source": [
        "!pip install pandas"
      ]
    },
    {
      "cell_type": "code",
      "source": [
        "import pandas as pd"
      ],
      "metadata": {
        "id": "pwgEhz-BtfpP"
      },
      "execution_count": null,
      "outputs": []
    },
    {
      "cell_type": "code",
      "source": [
        "sheet_id= '1wLXAt2bZEGKIeE_mvg1zYUSAfQCjkrDOREjLKxL55ZE'\n",
        "sheet_name = \"sheet1\"\n",
        "\n",
        "#https://docs.google.com/spreadsheets/d/1wLXAt2bZEGKIeE_mvg1zYUSAfQCjkrDOREjLKxL55ZE/edit?gid=1416055552#gid=1416055552\n",
        "\n",
        "url = f\"https://docs.google.com/spreadsheets/d/{sheet_id}/gviz/tq?tqx=out:csv&sheet={sheet_name}\"\n",
        "\n",
        "emp_df=pd.read_csv(url)"
      ],
      "metadata": {
        "id": "KrRYnGH7ti_d"
      },
      "execution_count": null,
      "outputs": []
    },
    {
      "cell_type": "code",
      "source": [
        "emp_df.to_csv(\"employee_data_raw\", index=False)"
      ],
      "metadata": {
        "id": "E3h0tPaeUBbV"
      },
      "execution_count": null,
      "outputs": []
    },
    {
      "cell_type": "code",
      "source": [
        "emp_df.head(10)"
      ],
      "metadata": {
        "id": "8-4tFqaQuYpZ"
      },
      "execution_count": null,
      "outputs": []
    },
    {
      "cell_type": "markdown",
      "source": [
        "####Data Type conversion"
      ],
      "metadata": {
        "id": "o7xAZYPWul6P"
      }
    },
    {
      "cell_type": "code",
      "source": [
        "emp_df.info()"
      ],
      "metadata": {
        "id": "sSa9mDpUuYnl"
      },
      "execution_count": null,
      "outputs": []
    },
    {
      "cell_type": "markdown",
      "source": [
        "####Handling Null Values"
      ],
      "metadata": {
        "id": "3Q7WNw5mVb9O"
      }
    },
    {
      "cell_type": "code",
      "source": [
        "emp_df.isnull().sum() # There is no null values"
      ],
      "metadata": {
        "id": "ri1D8AayuYlv",
        "collapsed": true
      },
      "execution_count": null,
      "outputs": []
    },
    {
      "cell_type": "markdown",
      "source": [
        "#### Deleting Unwanted Column"
      ],
      "metadata": {
        "id": "WR68q4Q0iZO9"
      }
    },
    {
      "cell_type": "code",
      "source": [
        "emp_df.drop(columns=['EmployeeCount','DailyRate','Over18','StandardHours'],inplace=True)"
      ],
      "metadata": {
        "id": "UvR4YnzMia8J"
      },
      "execution_count": null,
      "outputs": []
    },
    {
      "cell_type": "code",
      "source": [
        "emp_df.info()"
      ],
      "metadata": {
        "collapsed": true,
        "id": "qpAPdTE0iasR"
      },
      "execution_count": null,
      "outputs": []
    },
    {
      "cell_type": "markdown",
      "source": [
        "#### Column renaming"
      ],
      "metadata": {
        "id": "SaigkXjfjJKi"
      }
    },
    {
      "cell_type": "code",
      "source": [
        "emp_df.rename(columns={'EmployeeNumber':'Emp_ID'},inplace=True)"
      ],
      "metadata": {
        "id": "oT6CmmAkjOqh"
      },
      "execution_count": null,
      "outputs": []
    },
    {
      "cell_type": "code",
      "source": [
        "emp_df.info()"
      ],
      "metadata": {
        "id": "9gDTqptckDXT"
      },
      "execution_count": null,
      "outputs": []
    },
    {
      "cell_type": "markdown",
      "source": [
        "#### Checking the each column unique values"
      ],
      "metadata": {
        "id": "_mocxB6CXR2f"
      }
    },
    {
      "cell_type": "code",
      "source": [
        "emp_df.nunique()"
      ],
      "metadata": {
        "id": "s1M9vY01uYj2",
        "collapsed": true
      },
      "execution_count": null,
      "outputs": []
    },
    {
      "cell_type": "code",
      "source": [
        "#exclude_cols = ['Age']  # columns to skip\n",
        "\n",
        "value_counts_dict = {}\n",
        "\n",
        "for col in emp_df.columns:\n",
        "    #if col not in exclude_cols:\n",
        "        value_counts_dict[col] = emp_df[col].value_counts()\n",
        "\n",
        "# Access value counts of a specific column\n",
        "print(value_counts_dict['MaritalStatus'])\n"
      ],
      "metadata": {
        "id": "E1HyOEcMoydQ"
      },
      "execution_count": null,
      "outputs": []
    },
    {
      "cell_type": "markdown",
      "source": [
        "####Deleting Duplicate Values"
      ],
      "metadata": {
        "id": "DaN_Btc8qEHY"
      }
    },
    {
      "cell_type": "code",
      "source": [
        "emp_df.duplicated().sum()"
      ],
      "metadata": {
        "id": "QmgYZsUCqL9o"
      },
      "execution_count": null,
      "outputs": []
    },
    {
      "cell_type": "code",
      "source": [
        "emp_df.drop_duplicates(inplace=True) #Used to drop the duplicate values"
      ],
      "metadata": {
        "id": "WVORaaWlqEgn"
      },
      "execution_count": null,
      "outputs": []
    },
    {
      "cell_type": "markdown",
      "source": [
        "####Storing cleaned data to CSV"
      ],
      "metadata": {
        "id": "ZVy2S6k0qYdI"
      }
    },
    {
      "cell_type": "code",
      "source": [
        "emp_df.to_csv(\"employee_data_cleaned.csv\", index=False)"
      ],
      "metadata": {
        "id": "i1gHhl4vqQhP"
      },
      "execution_count": null,
      "outputs": []
    },
    {
      "cell_type": "code",
      "source": [
        "emp_df.info()"
      ],
      "metadata": {
        "collapsed": true,
        "id": "8CLpDFtiqJdf"
      },
      "execution_count": null,
      "outputs": []
    },
    {
      "cell_type": "markdown",
      "source": [
        "# EDA - Uni, Bi-Varient, Multivariate and **Feature selection**"
      ],
      "metadata": {
        "id": "KM1lg08UqqEK"
      }
    },
    {
      "cell_type": "markdown",
      "source": [
        "**The major types of analysis you’ll typically do in data preprocessing for ML, it’s mainly:**\n",
        "\n",
        "\n",
        "\n",
        "---\n",
        "\n",
        "\n",
        "1. Univariate Analysis\n",
        "* One variable at a time.\n",
        "\n",
        "* Purpose: Understand distribution, central tendency, spread, and outliers.\n",
        "\n",
        "\n",
        "---\n",
        "\n",
        "\n",
        "2. Bivariate Analysis\n",
        "* Two variables at a time.\n",
        "\n",
        "* Purpose: Find relationships, correlations, and trends.\n",
        "\n",
        "\n",
        "---\n",
        "\n",
        "\n",
        "3. Multivariate Analysis\n",
        "* Three or more variables together.\n",
        "\n",
        "* Purpose: Detect combined effects, interactions, patterns, and multicollinearity.\n",
        "\n",
        "\n",
        "---\n",
        "\n",
        "\n",
        "4. Missing Value Analysis\n",
        "* Purpose: Identify and handle missing or incomplete data.\n",
        "\n",
        "\n",
        "---\n",
        "\n",
        "\n",
        "5. Outlier Analysis\n",
        "* Purpose: Detect and decide how to treat extreme/unusual values.\n",
        "\n",
        "\n",
        "---\n",
        "\n",
        "\n",
        "6. Correlation Analysis\n",
        "* Purpose: Measure relationship strength, avoid redundant features.\n",
        "\n",
        "\n",
        "---\n",
        "\n",
        "\n",
        "7. Class Imbalance Analysis (for classification problems)\n",
        "* Purpose: Check if target variable has uneven distribution."
      ],
      "metadata": {
        "id": "8WQ0qceerFin"
      }
    },
    {
      "cell_type": "markdown",
      "source": [
        "### Univarient Analysis"
      ],
      "metadata": {
        "id": "BBrga5Jymfmt"
      }
    },
    {
      "cell_type": "markdown",
      "source": [
        "#### Importing necessary packages"
      ],
      "metadata": {
        "id": "kbdbOkigmu-d"
      }
    },
    {
      "cell_type": "code",
      "source": [
        "import matplotlib.pyplot as plt\n",
        "import seaborn as sns\n",
        "import plotly.express as px"
      ],
      "metadata": {
        "id": "fvTCjIBOm2PN"
      },
      "execution_count": null,
      "outputs": []
    },
    {
      "cell_type": "code",
      "source": [
        "# Loop through only numerical columns\n",
        "for col in emp_df.select_dtypes(include=['int64', 'float64']).columns:\n",
        "    fig = px.histogram(emp_df, x=col, nbins=10, marginal=\"box\")\n",
        "    fig.update_layout(title_text=f\"Distribution of {col}\")\n",
        "    fig.show()\n",
        "\n",
        "    print(f\"Summary statistics for {col}:\\n\")\n",
        "    print(emp_df[col].describe(), \"\\n\" + \"-\"*50 + \"\\n\")\n"
      ],
      "metadata": {
        "id": "fE5x2eTEqedm"
      },
      "execution_count": null,
      "outputs": []
    },
    {
      "cell_type": "code",
      "source": [
        "# Loop through only categorical/object columns\n",
        "for col in emp_df.select_dtypes(exclude=['int64', 'float64']).columns:\n",
        "    fig = px.histogram(emp_df, x=col)\n",
        "    fig.update_layout(title_text=f\"Category counts for {col}\")\n",
        "    fig.show()\n",
        "\n",
        "    print(f\"Summary statistics for {col}:\\n\")\n",
        "    print(emp_df[col].describe(), \"\\n\" + \"-\"*50 + \"\\n\")\n"
      ],
      "metadata": {
        "collapsed": true,
        "id": "WaK69E7snOi9"
      },
      "execution_count": null,
      "outputs": []
    },
    {
      "cell_type": "markdown",
      "source": [
        "### Bivarient Analysis"
      ],
      "metadata": {
        "id": "5plr6rPequBE"
      }
    },
    {
      "cell_type": "markdown",
      "source": [
        "* Our target is Attrition, so X will be Attrition for all."
      ],
      "metadata": {
        "id": "MuHzZgPJroCL"
      }
    },
    {
      "cell_type": "code",
      "source": [
        "# sns.pairplot(emp_df,hue='Attrition')"
      ],
      "metadata": {
        "collapsed": true,
        "id": "zEIjcS2wqU6M"
      },
      "execution_count": null,
      "outputs": []
    },
    {
      "cell_type": "code",
      "source": [
        "selected_df = emp_df.select_dtypes(include=['int64', 'float64'])\n",
        "corr_df = selected_df.corr()\n",
        "corr_df"
      ],
      "metadata": {
        "collapsed": true,
        "id": "RYRKF2yYrlCM"
      },
      "execution_count": null,
      "outputs": []
    },
    {
      "cell_type": "code",
      "source": [
        "fig = px.imshow(corr_df)\n",
        "\n",
        "fig.update_layout(\n",
        "    title=\"Correlation Heatmap\",\n",
        "    xaxis_title=\"Features\",\n",
        "    yaxis_title=\"Features\",\n",
        "    width=800,   # width in pixels\n",
        "    height=800   # height in pixels\n",
        ")\n",
        "fig.show()"
      ],
      "metadata": {
        "collapsed": true,
        "id": "Bhu3aQF9u5lI"
      },
      "execution_count": null,
      "outputs": []
    },
    {
      "cell_type": "markdown",
      "source": [
        "1. Numerical vs Numerical\n",
        "  *Scatter Plot*\n",
        "\n",
        "\n",
        "---\n",
        "\n",
        "\n",
        "2. Numerical vs Categorical\n",
        "  *Bar Plot*\n",
        "\n",
        "\n",
        "---\n",
        "\n",
        "\n",
        "3. Categorical vs Categorical\n",
        "  *Stacked Bar Chart*"
      ],
      "metadata": {
        "id": "YB0ktfUQGczG"
      }
    },
    {
      "cell_type": "markdown",
      "source": [
        "#### Num vs Categorical"
      ],
      "metadata": {
        "id": "F6dP8PobKQXq"
      }
    },
    {
      "cell_type": "code",
      "source": [
        "#Numerical column\n",
        "num_cols = emp_df.select_dtypes(include=['int64', 'float64']).columns\n",
        "num_cols"
      ],
      "metadata": {
        "id": "4nxj3T_tKUrN"
      },
      "execution_count": null,
      "outputs": []
    },
    {
      "cell_type": "code",
      "source": [
        "plt.figure(figsize=(10,10))\n",
        "sns.barplot(data=emp_df,x='Attrition',y='Age',hue='Attrition')\n",
        "\n",
        "# Therefore 'Age' need for ML - Model"
      ],
      "metadata": {
        "collapsed": true,
        "id": "UuMqfCZLI9CC"
      },
      "execution_count": null,
      "outputs": []
    },
    {
      "cell_type": "code",
      "source": [
        "plt.figure(figsize=(10,10))\n",
        "sns.barplot(data=emp_df,x='Attrition',y='DistanceFromHome',hue='Attrition')\n",
        "\n",
        "# Therefore 'DistanceFromHome' need for ML - Model"
      ],
      "metadata": {
        "collapsed": true,
        "id": "yQcxKpCkHWrs"
      },
      "execution_count": null,
      "outputs": []
    },
    {
      "cell_type": "code",
      "source": [
        "plt.figure(figsize=(10,10))\n",
        "sns.barplot(data=emp_df,x='Attrition',y='Education',hue='Attrition')\n",
        "\n",
        "# Therefore 'Education' need for ML - Model"
      ],
      "metadata": {
        "collapsed": true,
        "id": "VC7QG7ibIVFq"
      },
      "execution_count": null,
      "outputs": []
    },
    {
      "cell_type": "code",
      "source": [
        "plt.figure(figsize=(10,10))\n",
        "sns.barplot(data=emp_df,x='Attrition',y='EnvironmentSatisfaction',hue='Attrition')\n",
        "\n",
        "# Therefore 'EnvironmentSatisfaction' need for ML - Model"
      ],
      "metadata": {
        "collapsed": true,
        "id": "-CWPTb3WL0qu"
      },
      "execution_count": null,
      "outputs": []
    },
    {
      "cell_type": "code",
      "source": [
        "plt.figure(figsize=(10,10))\n",
        "sns.barplot(data=emp_df,x='Attrition',y='HourlyRate',hue='Attrition')\n",
        "\n",
        "# Therefore 'HourlyRate' not need for ML - Model"
      ],
      "metadata": {
        "collapsed": true,
        "id": "uQqkCGl7L8P1"
      },
      "execution_count": null,
      "outputs": []
    },
    {
      "cell_type": "markdown",
      "source": [
        "* Hypothesis test for 'HourlyRate'"
      ],
      "metadata": {
        "id": "iD6ADTqWNRdd"
      }
    },
    {
      "cell_type": "code",
      "source": [
        "from scipy.stats import ttest_ind\n",
        "\n",
        "# class A and B scores\n",
        "class_A = emp_df[emp_df['Attrition'] == 'Yes']['HourlyRate']\n",
        "class_B = emp_df[emp_df['Attrition'] == 'No']['HourlyRate']\n",
        "\n",
        "# Perform two-sample t-test (assume equal variances)\n",
        "t_statistic, p_value = ttest_ind(class_A, class_B)\n",
        "\n",
        "# Print the results\n",
        "print(\"T-statistic:\", t_statistic)\n",
        "print(\"P-value:\", p_value)\n",
        "\n",
        "# Interpretation\n",
        "alpha = 0.05\n",
        "if p_value < alpha:\n",
        "    print(\"Reject the null hypothesis. There is a significant difference in HourlyRate between Attrition (Yes) and Attrition (No).\")\n",
        "else:\n",
        "    print(\"Fail to reject the null hypothesis. There is no significant difference in HourlyRate between Attrition (Yes) and Attrition (No).\")"
      ],
      "metadata": {
        "id": "I6VFX2SoNZDS"
      },
      "execution_count": null,
      "outputs": []
    },
    {
      "cell_type": "code",
      "source": [
        "plt.figure(figsize=(10,10))\n",
        "sns.barplot(data=emp_df,x='Attrition',y='JobInvolvement',hue='Attrition')\n",
        "\n",
        "# Therefore 'JobInvolvement' need for ML - Model"
      ],
      "metadata": {
        "collapsed": true,
        "id": "UN-q_HOZO-mI"
      },
      "execution_count": null,
      "outputs": []
    },
    {
      "cell_type": "code",
      "source": [
        "plt.figure(figsize=(10,10))\n",
        "sns.barplot(data=emp_df,x='Attrition',y='JobLevel',hue='Attrition')\n",
        "\n",
        "# Therefore 'JobLevel' need for ML - Model"
      ],
      "metadata": {
        "collapsed": true,
        "id": "i9UNs0SuPJoF"
      },
      "execution_count": null,
      "outputs": []
    },
    {
      "cell_type": "code",
      "source": [
        "plt.figure(figsize=(10,10))\n",
        "sns.barplot(data=emp_df,x='Attrition',y='JobSatisfaction',hue='Attrition')\n",
        "\n",
        "# Therefore 'JobSatisfaction' need for ML - Model"
      ],
      "metadata": {
        "collapsed": true,
        "id": "rFqaR5PhPLSx"
      },
      "execution_count": null,
      "outputs": []
    },
    {
      "cell_type": "code",
      "source": [
        "plt.figure(figsize=(10,10))\n",
        "sns.barplot(data=emp_df,x='Attrition',y='MonthlyIncome',hue='Attrition')\n",
        "\n",
        "# Therefore 'MonthlyIncome' need for ML - Model"
      ],
      "metadata": {
        "collapsed": true,
        "id": "KLwQ9o9xPPC5"
      },
      "execution_count": null,
      "outputs": []
    },
    {
      "cell_type": "code",
      "source": [
        "plt.figure(figsize=(10,10))\n",
        "sns.barplot(data=emp_df,x='Attrition',y='NumCompaniesWorked',hue='Attrition')\n",
        "\n",
        "# Therefore 'NumCompaniesWorked' need for ML - Model"
      ],
      "metadata": {
        "collapsed": true,
        "id": "ytt4YIxvPSl5"
      },
      "execution_count": null,
      "outputs": []
    },
    {
      "cell_type": "code",
      "source": [
        "plt.figure(figsize=(10,10))\n",
        "sns.barplot(data=emp_df,x='Attrition',y='PerformanceRating',hue='Attrition')\n",
        "\n",
        "# Therefore 'PerformanceRating' not need for ML - Model"
      ],
      "metadata": {
        "collapsed": true,
        "id": "bbMz8LHZPYFB"
      },
      "execution_count": null,
      "outputs": []
    },
    {
      "cell_type": "markdown",
      "source": [
        "* Hypothesis for 'PerformanceRating'"
      ],
      "metadata": {
        "id": "apWd6aUfPwMB"
      }
    },
    {
      "cell_type": "code",
      "source": [
        "# class A and B scores\n",
        "class_A = emp_df[emp_df['Attrition'] == 'Yes']['PerformanceRating']\n",
        "class_B = emp_df[emp_df['Attrition'] == 'No']['PerformanceRating']\n",
        "\n",
        "# Perform two-sample t-test (assume equal variances)\n",
        "t_statistic, p_value = ttest_ind(class_A, class_B)\n",
        "\n",
        "# Print the results\n",
        "print(\"T-statistic:\", t_statistic)\n",
        "print(\"P-value:\", p_value)\n",
        "\n",
        "# Interpretation\n",
        "alpha = 0.05\n",
        "if p_value < alpha:\n",
        "    print(\"Reject the null hypothesis. There is a significant difference in PerformanceRating between Attrition (Yes) and Attrition (No).\")\n",
        "else:\n",
        "    print(\"Fail to reject the null hypothesis. There is no significant difference in PerformanceRating between Attrition (Yes) and Attrition (No).\")"
      ],
      "metadata": {
        "id": "Z9KCGPKPPc04"
      },
      "execution_count": null,
      "outputs": []
    },
    {
      "cell_type": "code",
      "source": [
        "plt.figure(figsize=(10,10))\n",
        "sns.barplot(data=emp_df,x='Attrition',y='RelationshipSatisfaction',hue='Attrition')\n",
        "\n",
        "# Therefore 'RelationshipSatisfaction' is need for ML - Model"
      ],
      "metadata": {
        "collapsed": true,
        "id": "aqrH0j6NQQ7B"
      },
      "execution_count": null,
      "outputs": []
    },
    {
      "cell_type": "code",
      "source": [
        "num_cols"
      ],
      "metadata": {
        "id": "qgP3IIcfQvre"
      },
      "execution_count": null,
      "outputs": []
    },
    {
      "cell_type": "code",
      "source": [
        "plt.figure(figsize=(10,10))\n",
        "sns.barplot(data=emp_df,x='Attrition',y='TotalWorkingYears',hue='Attrition')\n",
        "\n",
        "# Therefore 'TotalWorkingYears' need for ML - Model"
      ],
      "metadata": {
        "collapsed": true,
        "id": "fCdni_DwQ64g"
      },
      "execution_count": null,
      "outputs": []
    },
    {
      "cell_type": "code",
      "source": [
        "plt.figure(figsize=(10,10))\n",
        "sns.barplot(data=emp_df,x='Attrition',y='TrainingTimesLastYear',hue='Attrition')\n",
        "\n",
        "# Therefore 'TrainingTimesLastYear' need for ML - Model"
      ],
      "metadata": {
        "collapsed": true,
        "id": "mJxuCI-aRAMG"
      },
      "execution_count": null,
      "outputs": []
    },
    {
      "cell_type": "code",
      "source": [
        "plt.figure(figsize=(10,10))\n",
        "sns.barplot(data=emp_df,x='Attrition',y='WorkLifeBalance',hue='Attrition')\n",
        "\n",
        "# Therefore 'WorkLifeBalance' need for ML - Model"
      ],
      "metadata": {
        "collapsed": true,
        "id": "HVwzuCLaRWSQ"
      },
      "execution_count": null,
      "outputs": []
    },
    {
      "cell_type": "code",
      "source": [
        "plt.figure(figsize=(10,10))\n",
        "sns.barplot(data=emp_df,x='Attrition',y='YearsAtCompany',hue='Attrition')\n",
        "\n",
        "# Therefore 'YearsAtCompany' need for ML - Model"
      ],
      "metadata": {
        "collapsed": true,
        "id": "m_PzZ2iBRhOB"
      },
      "execution_count": null,
      "outputs": []
    },
    {
      "cell_type": "code",
      "source": [
        "plt.figure(figsize=(10,10))\n",
        "sns.barplot(data=emp_df,x='Attrition',y='YearsInCurrentRole',hue='Attrition')\n",
        "\n",
        "# Therefore 'YearsInCurrentRole' need for ML - Model"
      ],
      "metadata": {
        "collapsed": true,
        "id": "iZJ6YbMPR-ks"
      },
      "execution_count": null,
      "outputs": []
    },
    {
      "cell_type": "code",
      "source": [
        "plt.figure(figsize=(10,10))\n",
        "sns.barplot(data=emp_df,x='Attrition',y='YearsSinceLastPromotion',hue='Attrition')\n",
        "\n",
        "# Therefore 'YearsSinceLastPromotion' need for ML - Model"
      ],
      "metadata": {
        "collapsed": true,
        "id": "IQMfZXd6SJZx"
      },
      "execution_count": null,
      "outputs": []
    },
    {
      "cell_type": "code",
      "source": [
        "plt.figure(figsize=(10,10))\n",
        "sns.barplot(data=emp_df,x='Attrition',y='YearsWithCurrManager',hue='Attrition')\n",
        "\n",
        "# Therefore 'YearsWithCurrManager' need for ML - Model"
      ],
      "metadata": {
        "collapsed": true,
        "id": "skHffZANSjOe"
      },
      "execution_count": null,
      "outputs": []
    },
    {
      "cell_type": "markdown",
      "source": [
        "#### Categorical vs Categorical"
      ],
      "metadata": {
        "id": "p7UxAhcnSxxW"
      }
    },
    {
      "cell_type": "code",
      "source": [
        "categorical_col = emp_df.select_dtypes(exclude=['int64', 'float64']).columns\n",
        "categorical_col"
      ],
      "metadata": {
        "id": "Q1xx7iTbS0nU"
      },
      "execution_count": null,
      "outputs": []
    },
    {
      "cell_type": "code",
      "source": [
        "crosstab_df = pd.crosstab(emp_df['BusinessTravel'], emp_df['Attrition'])\n",
        "crosstab_df['Attrition_Ratio'] = crosstab_df['Yes'] / (crosstab_df['No'] + crosstab_df['Yes'])\n",
        "crosstab_df\n",
        "\n",
        "plt.figure(figsize=(10,10))\n",
        "sns.barplot(data=crosstab_df,x=crosstab_df.index,y='Attrition_Ratio')\n",
        "\n",
        "# Therefore 'BusinessTravel' need for ML - Model"
      ],
      "metadata": {
        "collapsed": true,
        "colab": {
          "base_uri": "https://localhost:8080/",
          "height": 867
        },
        "id": "DJGUHCsfS88c",
        "outputId": "123c32fd-f4ca-487f-a1f3-cf235278e0be"
      },
      "execution_count": 121,
      "outputs": [
        {
          "output_type": "execute_result",
          "data": {
            "text/plain": [
              "<Axes: xlabel='BusinessTravel', ylabel='Attrition_Ratio'>"
            ]
          },
          "metadata": {},
          "execution_count": 121
        },
        {
          "output_type": "display_data",
          "data": {
            "text/plain": [
              "<Figure size 1000x1000 with 1 Axes>"
            ],
            "image/png": "[encoded data removed]"
          },
          "metadata": {}
        }
      ]
    },
    {
      "cell_type": "code",
      "source": [
        "crosstab_df = pd.crosstab(emp_df['Department'], emp_df['Attrition'])\n",
        "crosstab_df['Attrition_Ratio'] = crosstab_df['Yes'] / (crosstab_df['No'] + crosstab_df['Yes'])\n",
        "crosstab_df\n",
        "\n",
        "plt.figure(figsize=(10,10))\n",
        "sns.barplot(data=crosstab_df,x=crosstab_df.index,y='Attrition_Ratio')\n",
        "\n",
        "# Therefore 'Department' need for ML - Model"
      ],
      "metadata": {
        "collapsed": true,
        "colab": {
          "base_uri": "https://localhost:8080/",
          "height": 867
        },
        "id": "Pk0aMP7jUQ_M",
        "outputId": "08206339-9c57-4fa6-9332-0f9a8b2bd1d1"
      },
      "execution_count": 123,
      "outputs": [
        {
          "output_type": "execute_result",
          "data": {
            "text/plain": [
              "<Axes: xlabel='Department', ylabel='Attrition_Ratio'>"
            ]
          },
          "metadata": {},
          "execution_count": 123
        },
        {
          "output_type": "display_data",
          "data": {
            "text/plain": [
              "<Figure size 1000x1000 with 1 Axes>"
            ],
            "image/png": "[encoded data removed]"
          },
          "metadata": {}
        }
      ]
    },
    {
      "cell_type": "code",
      "source": [
        "crosstab_df = pd.crosstab(emp_df['EducationField'], emp_df['Attrition'])\n",
        "crosstab_df['Attrition_Ratio'] = crosstab_df['Yes'] / (crosstab_df['No'] + crosstab_df['Yes'])\n",
        "crosstab_df\n",
        "\n",
        "plt.figure(figsize=(10,10))\n",
        "sns.barplot(data=crosstab_df,x=crosstab_df.index,y='Attrition_Ratio')\n",
        "\n",
        "# Therefore 'EducationField' need for ML - Model"
      ],
      "metadata": {
        "collapsed": true,
        "colab": {
          "base_uri": "https://localhost:8080/",
          "height": 867
        },
        "id": "pDmXGkEEUQ9N",
        "outputId": "d89d6931-05cd-43ac-c4a7-800e499c8e36"
      },
      "execution_count": 124,
      "outputs": [
        {
          "output_type": "execute_result",
          "data": {
            "text/plain": [
              "<Axes: xlabel='EducationField', ylabel='Attrition_Ratio'>"
            ]
          },
          "metadata": {},
          "execution_count": 124
        },
        {
          "output_type": "display_data",
          "data": {
            "text/plain": [
              "<Figure size 1000x1000 with 1 Axes>"
            ],
            "image/png": "[encoded data removed]"
          },
          "metadata": {}
        }
      ]
    },
    {
      "cell_type": "code",
      "source": [
        "crosstab_df = pd.crosstab(emp_df['Gender'], emp_df['Attrition'])\n",
        "crosstab_df['Attrition_Ratio'] = crosstab_df['Yes'] / (crosstab_df['No'] + crosstab_df['Yes'])\n",
        "crosstab_df\n",
        "\n",
        "plt.figure(figsize=(10,10))\n",
        "sns.barplot(data=crosstab_df,x=crosstab_df.index,y='Attrition_Ratio')\n",
        "\n",
        "# Therefore 'Gender' need for ML - Model"
      ],
      "metadata": {
        "collapsed": true,
        "colab": {
          "base_uri": "https://localhost:8080/",
          "height": 867
        },
        "id": "X6K7RqI4UQ7k",
        "outputId": "252603a8-dd80-46df-e3e4-f63e495d6935"
      },
      "execution_count": 125,
      "outputs": [
        {
          "output_type": "execute_result",
          "data": {
            "text/plain": [
              "<Axes: xlabel='Gender', ylabel='Attrition_Ratio'>"
            ]
          },
          "metadata": {},
          "execution_count": 125
        },
        {
          "output_type": "display_data",
          "data": {
            "text/plain": [
              "<Figure size 1000x1000 with 1 Axes>"
            ],
            "image/png": "[encoded data removed]"
          },
          "metadata": {}
        }
      ]
    },
    {
      "cell_type": "code",
      "source": [
        "crosstab_df = pd.crosstab(emp_df['JobRole'], emp_df['Attrition'])\n",
        "crosstab_df['Attrition_Ratio'] = crosstab_df['Yes'] / (crosstab_df['No'] + crosstab_df['Yes'])\n",
        "crosstab_df\n",
        "\n",
        "plt.figure(figsize=(20,10))\n",
        "sns.barplot(data=crosstab_df,x=crosstab_df.index,y='Attrition_Ratio')\n",
        "\n",
        "# Therefore 'JobRole' need for ML - Model"
      ],
      "metadata": {
        "collapsed": true,
        "colab": {
          "base_uri": "https://localhost:8080/",
          "height": 779
        },
        "id": "Q6zHQMmBUQ6A",
        "outputId": "19691844-6214-4cff-b9b9-a125d297b5c3"
      },
      "execution_count": 127,
      "outputs": [
        {
          "output_type": "execute_result",
          "data": {
            "text/plain": [
              "<Axes: xlabel='JobRole', ylabel='Attrition_Ratio'>"
            ]
          },
          "metadata": {},
          "execution_count": 127
        },
        {
          "output_type": "display_data",
          "data": {
            "text/plain": [
              "<Figure size 2000x1000 with 1 Axes>"
            ],
            "image/png": "[encoded data removed]"
          },
          "metadata": {}
        }
      ]
    },
    {
      "cell_type": "code",
      "source": [
        "crosstab_df = pd.crosstab(emp_df['MaritalStatus'], emp_df['Attrition'])\n",
        "crosstab_df['Attrition_Ratio'] = crosstab_df['Yes'] / (crosstab_df['No'] + crosstab_df['Yes'])\n",
        "crosstab_df\n",
        "\n",
        "plt.figure(figsize=(10,5))\n",
        "sns.barplot(data=crosstab_df,x=crosstab_df.index,y='Attrition_Ratio')\n",
        "\n",
        "# Therefore 'MaritalStatus' need for ML - Model"
      ],
      "metadata": {
        "collapsed": true,
        "colab": {
          "base_uri": "https://localhost:8080/",
          "height": 482
        },
        "id": "E9lDFd5tVB3S",
        "outputId": "882bea5d-7e8e-429a-d109-4f4cd49aecf5"
      },
      "execution_count": 130,
      "outputs": [
        {
          "output_type": "execute_result",
          "data": {
            "text/plain": [
              "<Axes: xlabel='MaritalStatus', ylabel='Attrition_Ratio'>"
            ]
          },
          "metadata": {},
          "execution_count": 130
        },
        {
          "output_type": "display_data",
          "data": {
            "text/plain": [
              "<Figure size 1000x500 with 1 Axes>"
            ],
            "image/png": "[encoded data removed]"
          },
          "metadata": {}
        }
      ]
    },
    {
      "cell_type": "code",
      "source": [
        "crosstab_df = pd.crosstab(emp_df['OverTime'], emp_df['Attrition'])\n",
        "crosstab_df['Attrition_Ratio'] = crosstab_df['Yes'] / (crosstab_df['No'] + crosstab_df['Yes'])\n",
        "crosstab_df\n",
        "\n",
        "plt.figure(figsize=(10,5))\n",
        "sns.barplot(data=crosstab_df,x=crosstab_df.index,y='Attrition_Ratio')\n",
        "\n",
        "# Therefore 'OverTime' need for ML - Model"
      ],
      "metadata": {
        "collapsed": true,
        "colab": {
          "base_uri": "https://localhost:8080/",
          "height": 482
        },
        "id": "7c_JdipEVJL5",
        "outputId": "335e3b8f-ea3a-4efb-bd09-68b77860f81a"
      },
      "execution_count": 131,
      "outputs": [
        {
          "output_type": "execute_result",
          "data": {
            "text/plain": [
              "<Axes: xlabel='OverTime', ylabel='Attrition_Ratio'>"
            ]
          },
          "metadata": {},
          "execution_count": 131
        },
        {
          "output_type": "display_data",
          "data": {
            "text/plain": [
              "<Figure size 1000x500 with 1 Axes>"
            ],
            "image/png": "[encoded data removed]"
          },
          "metadata": {}
        }
      ]
    },
    {
      "cell_type": "code",
      "source": [],
      "metadata": {
        "id": "zBFn9onOVWNC"
      },
      "execution_count": null,
      "outputs": []
    },
    {
      "cell_type": "markdown",
      "source": [
        "# Feature and Target"
      ],
      "metadata": {
        "id": "ZXbeFbsKlvYy"
      }
    },
    {
      "cell_type": "code",
      "source": [
        "emp_df.columns"
      ],
      "metadata": {
        "id": "HHLIi9Vwl_Lx"
      },
      "execution_count": null,
      "outputs": []
    },
    {
      "cell_type": "code",
      "source": [
        "# Creating Features and Target in new DataFrame\n",
        "\n",
        "X=emp_df[['Age','DistanceFromHome','Education','EnvironmentSatisfaction','JobInvolvement','JobLevel','JobSatisfaction','MonthlyIncome','NumCompaniesWorked','PercentSalaryHike','PerformanceRating','RelationshipSatisfaction',\n",
        "         'TotalWorkingYears','TrainingTimesLastYear','WorkLifeBalance','YearsAtCompany','YearsInCurrentRole','YearsSinceLastPromotion','YearsWithCurrManager','BusinessTravel',\n",
        "         'Department','EducationField','Gender','JobRole','MaritalStatus','OverTime']] # Features\n",
        "Y=emp_df['Attrition'] # Target"
      ],
      "metadata": {
        "id": "iDTrAwTglzzl"
      },
      "execution_count": null,
      "outputs": []
    },
    {
      "cell_type": "markdown",
      "source": [
        "# **Feature Selection** (ML)"
      ],
      "metadata": {
        "id": "G3Rh9JcLYCjf"
      }
    },
    {
      "cell_type": "markdown",
      "source": [
        "*Encoding is only for categorical data and nominal, ordinal data's*"
      ],
      "metadata": {
        "id": "ouuqJltxmpn5"
      }
    },
    {
      "cell_type": "markdown",
      "source": [
        "\n",
        "\n",
        "*   X is a Features\n",
        "*   Y is a Target\n",
        "\n"
      ],
      "metadata": {
        "id": "Aw4qvWYIjAk3"
      }
    },
    {
      "cell_type": "code",
      "source": [
        "emp_df.info()"
      ],
      "metadata": {
        "id": "fcAZKY0NtuP-"
      },
      "execution_count": null,
      "outputs": []
    },
    {
      "cell_type": "code",
      "source": [
        "# Seperating Numerical and Categorical Features\n",
        "# For 1st we seperating Numerical into 2 types one is Continues and Discreat\n",
        "\n",
        "num_feature=X[X.select_dtypes(include=['int64','float64','int32']).columns]\n",
        "num_feature"
      ],
      "metadata": {
        "id": "4V_q4NjmitTW"
      },
      "execution_count": null,
      "outputs": []
    },
    {
      "cell_type": "code",
      "source": [
        "# We have continues and discret values so we again seperating numerical values\n",
        "num_feature_dis = num_feature[['Education','EnvironmentSatisfaction','JobInvolvement','JobLevel','JobSatisfaction',\n",
        "                               'RelationshipSatisfaction','WorkLifeBalance','PerformanceRating']].reset_index(drop=True) # Discreat Values\n",
        "                               #Need to confirm \"StockOptionLevel\" is needed or not\n",
        "num_features_con = num_feature[['Age','DistanceFromHome','MonthlyIncome','NumCompaniesWorked','PercentSalaryHike','TotalWorkingYears','TrainingTimesLastYear',\n",
        "                                'YearsAtCompany','YearsInCurrentRole','YearsSinceLastPromotion','YearsWithCurrManager']].reset_index(drop=True) # Continues Values"
      ],
      "metadata": {
        "id": "UrdmnjmqitQk"
      },
      "execution_count": null,
      "outputs": []
    },
    {
      "cell_type": "code",
      "source": [
        "num_feature_dis"
      ],
      "metadata": {
        "id": "Ecmm1ibSYHWl"
      },
      "execution_count": null,
      "outputs": []
    },
    {
      "cell_type": "code",
      "source": [
        "num_features_con"
      ],
      "metadata": {
        "id": "aAZBV9m9pB43"
      },
      "execution_count": null,
      "outputs": []
    },
    {
      "cell_type": "code",
      "source": [
        "# Seperating Categorical features\n",
        "\n",
        "cat_feature=X[X.select_dtypes(include=['object']).columns].reset_index(drop=True)\n",
        "cat_feature"
      ],
      "metadata": {
        "id": "7I8cWZd0pFeQ"
      },
      "execution_count": null,
      "outputs": []
    },
    {
      "cell_type": "code",
      "source": [],
      "metadata": {
        "id": "U66JjSnMwY8t"
      },
      "execution_count": null,
      "outputs": []
    },
    {
      "cell_type": "code",
      "source": [
        "cat_feature_OH = cat_feature[['BusinessTravel','Department','Gender','MaritalStatus','OverTime']].reset_index(drop=True)\n",
        "cat_feature_OH"
      ],
      "metadata": {
        "id": "w0yyWFk6uwAt"
      },
      "execution_count": null,
      "outputs": []
    },
    {
      "cell_type": "code",
      "source": [
        "cat_feature_TR = cat_feature[['EducationField','JobRole']].reset_index(drop=True)\n",
        "cat_feature_TR"
      ],
      "metadata": {
        "id": "GEF4Hzz6uv-t"
      },
      "execution_count": null,
      "outputs": []
    },
    {
      "cell_type": "code",
      "source": [
        "# We need a column category for Target based Ordinal Encoding\n",
        "\n",
        "# Encode Attrition to binary\n",
        "\n",
        "emp_df['Attrition_binary'] = emp_df['Attrition'].map({'Yes': 1, 'No': 0})\n",
        "cat_feature_TR_list = []\n",
        "for i in cat_feature_TR:\n",
        "  plt.figure(figsize=(10,10))\n",
        "  (emp_df.groupby(i)['Attrition_binary'].mean().sort_values(ascending=False).plot(kind='bar', color='skyblue'))\n",
        "  cat_feature_TR_list.append(list(emp_df.groupby(i)['Attrition_binary'].mean().sort_values(ascending=False).index))\n"
      ],
      "metadata": {
        "collapsed": true,
        "id": "JkfkgyUbxV7V"
      },
      "execution_count": null,
      "outputs": []
    },
    {
      "cell_type": "code",
      "source": [
        "# The list for Odinal Encoding Categorical value\n",
        "\n",
        "cat_feature_TR_list"
      ],
      "metadata": {
        "id": "nFo29z640_p1"
      },
      "execution_count": null,
      "outputs": []
    },
    {
      "cell_type": "markdown",
      "source": [
        "#### Encoding - Categorical Features - Test"
      ],
      "metadata": {
        "id": "gQ5C0S06uKJ8"
      }
    },
    {
      "cell_type": "markdown",
      "source": [
        "##### OneHot Encoding"
      ],
      "metadata": {
        "id": "HzmoRoCl1er1"
      }
    },
    {
      "cell_type": "code",
      "source": [
        "cat_feature_OH, cat_feature_TR, cat_feature_TR_list"
      ],
      "metadata": {
        "id": "XvFIR4zA1eEN"
      },
      "execution_count": null,
      "outputs": []
    },
    {
      "cell_type": "code",
      "source": [
        "# Importing packages for OneHot Encoding\n",
        "\n",
        "from sklearn.preprocessing import OneHotEncoder"
      ],
      "metadata": {
        "id": "4Av_8M1Hp882"
      },
      "execution_count": null,
      "outputs": []
    },
    {
      "cell_type": "code",
      "source": [
        "# Created object for encoding\n",
        "\n",
        "\n",
        "OHE=OneHotEncoder(dtype='int64', sparse_output=False, drop='first')\n",
        "OHE"
      ],
      "metadata": {
        "id": "QZXRYlHA2S_2"
      },
      "execution_count": null,
      "outputs": []
    },
    {
      "cell_type": "code",
      "source": [
        "# This is the code going to encode data\n",
        "\n",
        "OHE_trans = OHE.fit_transform(cat_feature_OH)\n",
        "OHE_trans"
      ],
      "metadata": {
        "id": "4FCbhOPU2S91"
      },
      "execution_count": null,
      "outputs": []
    },
    {
      "cell_type": "code",
      "source": [
        "# This is the encoded columns\n",
        "\n",
        "OHE.get_feature_names_out()"
      ],
      "metadata": {
        "id": "aZ2KFMDF2S23"
      },
      "execution_count": null,
      "outputs": []
    },
    {
      "cell_type": "code",
      "source": [
        "# Creating a dataframe using that encoded data and column\n",
        "\n",
        "OHE_df = pd.DataFrame(OHE_trans, columns=OHE.get_feature_names_out())\n",
        "OHE_df"
      ],
      "metadata": {
        "id": "euom5Zyt2S0k"
      },
      "execution_count": null,
      "outputs": []
    },
    {
      "cell_type": "code",
      "source": [],
      "metadata": {
        "id": "da2yXl4h2Ste"
      },
      "execution_count": null,
      "outputs": []
    },
    {
      "cell_type": "markdown",
      "source": [
        "##### Ordinal Encoding"
      ],
      "metadata": {
        "id": "AnKbS8Da3ZGG"
      }
    },
    {
      "cell_type": "code",
      "source": [
        "cat_feature_TR, cat_feature_TR_list"
      ],
      "metadata": {
        "id": "oVPYDbpB3dJV"
      },
      "execution_count": null,
      "outputs": []
    },
    {
      "cell_type": "code",
      "source": [
        "# Importing packages\n",
        "\n",
        "from sklearn.preprocessing import OrdinalEncoder"
      ],
      "metadata": {
        "id": "WGvq5faD3dHQ"
      },
      "execution_count": null,
      "outputs": []
    },
    {
      "cell_type": "code",
      "source": [
        "# This is the list we are going to give as catogory for our odinal encoding each list of list is a single column\n",
        "\n",
        "cat_feature_TR_list"
      ],
      "metadata": {
        "id": "vX8I2dTj3dFl"
      },
      "execution_count": null,
      "outputs": []
    },
    {
      "cell_type": "code",
      "source": [
        "OE = OrdinalEncoder(categories=cat_feature_TR_list)\n",
        "OE"
      ],
      "metadata": {
        "id": "_DFvfubo3v_2"
      },
      "execution_count": null,
      "outputs": []
    },
    {
      "cell_type": "code",
      "source": [
        "cat_feature_TR_trans_arr = OE.fit_transform(cat_feature_TR)\n",
        "cat_feature_TR_trans_arr"
      ],
      "metadata": {
        "id": "Xj5iAa9Q3v99"
      },
      "execution_count": null,
      "outputs": []
    },
    {
      "cell_type": "code",
      "source": [
        "cat_feature_TR_trans_df = pd.DataFrame(cat_feature_TR_trans_arr, columns=OE.get_feature_names_out()).reset_index(drop=True)\n",
        "cat_feature_TR_trans_df"
      ],
      "metadata": {
        "id": "8DjdQbr33v8N"
      },
      "execution_count": null,
      "outputs": []
    },
    {
      "cell_type": "code",
      "source": [],
      "metadata": {
        "id": "unHRPlHB3v51"
      },
      "execution_count": null,
      "outputs": []
    },
    {
      "cell_type": "markdown",
      "source": [
        "#### Scaling - Numerical Features - Test"
      ],
      "metadata": {
        "id": "TMMGrkiquOMC"
      }
    },
    {
      "cell_type": "code",
      "source": [
        "num_features_con"
      ],
      "metadata": {
        "id": "BZAIx0ysp8o-"
      },
      "execution_count": null,
      "outputs": []
    },
    {
      "cell_type": "markdown",
      "source": [
        "##### Standard Scalar(Standardization)"
      ],
      "metadata": {
        "id": "KhYSpMtvu_mh"
      }
    },
    {
      "cell_type": "code",
      "source": [
        "# Importing packages\n",
        "\n",
        "from sklearn.preprocessing import StandardScaler"
      ],
      "metadata": {
        "id": "tZT7xy3xp8km"
      },
      "execution_count": null,
      "outputs": []
    },
    {
      "cell_type": "code",
      "source": [
        "SC=StandardScaler()\n",
        "SC"
      ],
      "metadata": {
        "id": "_tmV8LjivBhb"
      },
      "execution_count": null,
      "outputs": []
    },
    {
      "cell_type": "code",
      "source": [
        "# We need only continuos columns only, we can directly use discreat values directly\n",
        "\n",
        "num_features_con # num_feature_dis"
      ],
      "metadata": {
        "collapsed": true,
        "id": "F-0lTqAM5UMG"
      },
      "execution_count": null,
      "outputs": []
    },
    {
      "cell_type": "code",
      "source": [
        "num_scaled_arr=SC.fit_transform(num_features_con)\n",
        "num_scaled_arr"
      ],
      "metadata": {
        "id": "5wnAnYTyvFBB"
      },
      "execution_count": null,
      "outputs": []
    },
    {
      "cell_type": "code",
      "source": [
        "SC.get_feature_names_out()"
      ],
      "metadata": {
        "id": "sTrzpDt-603e"
      },
      "execution_count": null,
      "outputs": []
    },
    {
      "cell_type": "code",
      "source": [
        "num_scaled_arr_df = pd.DataFrame(num_scaled_arr, columns=SC.get_feature_names_out())\n",
        "num_scaled_arr_df"
      ],
      "metadata": {
        "id": "PMaDX_Bf6aiP"
      },
      "execution_count": null,
      "outputs": []
    },
    {
      "cell_type": "markdown",
      "source": [
        "#### Encoding the Target(Y) - Test"
      ],
      "metadata": {
        "id": "CAMOiiKS8IGG"
      }
    },
    {
      "cell_type": "code",
      "source": [
        "Y"
      ],
      "metadata": {
        "collapsed": true,
        "id": "f8IY64ft8eP-"
      },
      "execution_count": null,
      "outputs": []
    },
    {
      "cell_type": "code",
      "source": [
        "target = Y\n",
        "target"
      ],
      "metadata": {
        "collapsed": true,
        "id": "AIZpi7Y58sy-"
      },
      "execution_count": null,
      "outputs": []
    },
    {
      "cell_type": "code",
      "source": [
        "# Importing package for Label encoding\n",
        "\n",
        "from sklearn.preprocessing import LabelEncoder"
      ],
      "metadata": {
        "id": "e86shBRK8Pdr"
      },
      "execution_count": null,
      "outputs": []
    },
    {
      "cell_type": "code",
      "source": [
        "# Created object for encoding\n",
        "\n",
        "LR=LabelEncoder()\n",
        "LR"
      ],
      "metadata": {
        "id": "PcR696tB8PZs"
      },
      "execution_count": null,
      "outputs": []
    },
    {
      "cell_type": "code",
      "source": [
        "LR.fit(['Yes','No'])"
      ],
      "metadata": {
        "id": "e-fGEIZp8PXo"
      },
      "execution_count": null,
      "outputs": []
    },
    {
      "cell_type": "code",
      "source": [
        "target_arr = LR.transform(target)\n",
        "target_arr"
      ],
      "metadata": {
        "id": "JaLEnNLq9Mk_"
      },
      "execution_count": null,
      "outputs": []
    },
    {
      "cell_type": "code",
      "source": [
        "target_df = pd.DataFrame(target_arr, columns=['Attrition_binary'])\n",
        "target_df"
      ],
      "metadata": {
        "id": "simjqEwV9UUe"
      },
      "execution_count": null,
      "outputs": []
    },
    {
      "cell_type": "markdown",
      "source": [
        "#### Combining all encoded data(Test)"
      ],
      "metadata": {
        "id": "56m6C_td6-zX"
      }
    },
    {
      "cell_type": "code",
      "source": [
        "target_df,OHE_df,cat_feature_TR_trans_df,num_scaled_arr_df"
      ],
      "metadata": {
        "id": "PelfhaLD7HOu"
      },
      "execution_count": null,
      "outputs": []
    },
    {
      "cell_type": "code",
      "source": [
        "encoded_df = pd.concat([target_df,OHE_df,cat_feature_TR_trans_df,num_scaled_arr_df], axis=1)\n",
        "encoded_df"
      ],
      "metadata": {
        "id": "rKGGjIia7G7L"
      },
      "execution_count": null,
      "outputs": []
    },
    {
      "cell_type": "code",
      "source": [
        "# Completed!!"
      ],
      "metadata": {
        "id": "RdUpWPRn7G4n"
      },
      "execution_count": null,
      "outputs": []
    },
    {
      "cell_type": "code",
      "source": [
        "encoded_df.head()"
      ],
      "metadata": {
        "id": "dygROvEdBwXX"
      },
      "execution_count": null,
      "outputs": []
    },
    {
      "cell_type": "markdown",
      "source": [
        "# Pipeline"
      ],
      "metadata": {
        "id": "klJhGRpdvmVo"
      }
    },
    {
      "cell_type": "code",
      "source": [
        "# Importing lib for Pipeline\n",
        "\n",
        "from sklearn.pipeline import Pipeline\n",
        "from sklearn.compose import ColumnTransformer\n",
        "from sklearn.preprocessing import StandardScaler,OrdinalEncoder\n",
        "from sklearn.impute import SimpleImputer"
      ],
      "metadata": {
        "id": "r-DetfIAvL8x"
      },
      "execution_count": null,
      "outputs": []
    },
    {
      "cell_type": "code",
      "source": [
        "emp_df['Attrition_binary'] = emp_df['Attrition'].map({'Yes': 1, 'No': 0})"
      ],
      "metadata": {
        "id": "OMH4XKeJR_2n"
      },
      "execution_count": null,
      "outputs": []
    },
    {
      "cell_type": "code",
      "source": [
        "# Creating Features and Target in new DataFrame\n",
        "\n",
        "X=emp_df[['Age','DistanceFromHome','Education','EnvironmentSatisfaction','JobInvolvement','JobLevel','JobSatisfaction','MonthlyIncome','NumCompaniesWorked','PercentSalaryHike','PerformanceRating','RelationshipSatisfaction',\n",
        "         'TotalWorkingYears','TrainingTimesLastYear','WorkLifeBalance','YearsAtCompany','YearsInCurrentRole','YearsSinceLastPromotion','YearsWithCurrManager','BusinessTravel',\n",
        "         'Department','EducationField','Gender','JobRole','MaritalStatus','OverTime']] # Features\n",
        "Y=emp_df['Attrition_binary'] # Target"
      ],
      "metadata": {
        "id": "0M2GXUqd3e8F"
      },
      "execution_count": null,
      "outputs": []
    },
    {
      "cell_type": "code",
      "source": [
        "# Seperating Numerical and Categorical Features\n",
        "# For 1st we seperating Numerical into 2 types one is Continues and Discreat\n",
        "\n",
        "num_feature=X[X.select_dtypes(include=['int64','float64','int32']).columns]\n",
        "num_feature"
      ],
      "metadata": {
        "collapsed": true,
        "id": "OwWqBfWI5i6r"
      },
      "execution_count": null,
      "outputs": []
    },
    {
      "cell_type": "code",
      "source": [
        "# We have continues and discret values so we again seperating numerical values\n",
        "num_feature_dis = num_feature[['Education','EnvironmentSatisfaction','JobInvolvement','JobLevel','JobSatisfaction',\n",
        "                               'RelationshipSatisfaction','WorkLifeBalance','PerformanceRating']].reset_index(drop=True) # Discreat Values\n",
        "                               #Need to confirm \"StockOptionLevel\" is needed or not\n",
        "num_features_con = num_feature[['Age','DistanceFromHome','MonthlyIncome','NumCompaniesWorked','PercentSalaryHike','TotalWorkingYears','TrainingTimesLastYear',\n",
        "                                'YearsAtCompany','YearsInCurrentRole','YearsSinceLastPromotion','YearsWithCurrManager']].reset_index(drop=True) # Continues Values"
      ],
      "metadata": {
        "id": "AGdBVyEfwCfB"
      },
      "execution_count": null,
      "outputs": []
    },
    {
      "cell_type": "code",
      "source": [
        "# Seperating Categorical features\n",
        "\n",
        "cat_feature=X[X.select_dtypes(include=['object']).columns].reset_index(drop=True)\n",
        "cat_feature"
      ],
      "metadata": {
        "collapsed": true,
        "id": "MFlBlyKH5k2z"
      },
      "execution_count": null,
      "outputs": []
    },
    {
      "cell_type": "code",
      "source": [
        "# Seperating Categorical features for OneHot Encoding\n",
        "\n",
        "cat_feature_OH = cat_feature[['BusinessTravel','Department','Gender','MaritalStatus','OverTime']].reset_index(drop=True)\n",
        "cat_feature_OH"
      ],
      "metadata": {
        "collapsed": true,
        "id": "fs6KaXut5k0O"
      },
      "execution_count": null,
      "outputs": []
    },
    {
      "cell_type": "code",
      "source": [
        "# Seperating Categorical features for Target Encoding\n",
        "\n",
        "cat_feature_TR = cat_feature[['EducationField','JobRole']].reset_index(drop=True)\n",
        "cat_feature_TR"
      ],
      "metadata": {
        "collapsed": true,
        "id": "oTQzzDGQ7j4x"
      },
      "execution_count": null,
      "outputs": []
    },
    {
      "cell_type": "code",
      "source": [
        "# We need a column category for Target based Ordinal Encoding\n",
        "\n",
        "# Encode Attrition to binary\n",
        "\n",
        "# emp_df['Attrition_binary'] = emp_df['Attrition'].map({'Yes': 1, 'No': 0})\n",
        "cat_feature_TR_list = []\n",
        "for i in cat_feature_TR:\n",
        "  plt.figure(figsize=(10,10))\n",
        "  (emp_df.groupby(i)['Attrition_binary'].mean().sort_values(ascending=False).plot(kind='bar', color='skyblue'))\n",
        "  cat_feature_TR_list.append(list(emp_df.groupby(i)['Attrition_binary'].mean().sort_values(ascending=False).index))"
      ],
      "metadata": {
        "collapsed": true,
        "id": "dGcE4HuN7j1g"
      },
      "execution_count": null,
      "outputs": []
    },
    {
      "cell_type": "code",
      "source": [
        "# The list for Odinal Encoding Categorical value\n",
        "\n",
        "cat_feature_TR_list"
      ],
      "metadata": {
        "collapsed": true,
        "id": "zidpc2SK7jGI"
      },
      "execution_count": null,
      "outputs": []
    },
    {
      "cell_type": "code",
      "source": [
        "# Creating transformer for Numerical con columns\n",
        "\n",
        "numerical_transformer_con=Pipeline(steps=[\n",
        "    ('imputer',SimpleImputer(strategy='median')),\n",
        "    ('scaler',StandardScaler())\n",
        "])\n",
        "\n",
        "numerical_transformer_con"
      ],
      "metadata": {
        "id": "s6P_zoJLwZHx"
      },
      "execution_count": null,
      "outputs": []
    },
    {
      "cell_type": "code",
      "source": [
        "# Creating transformer for dis column\n",
        "\n",
        "numerical_transformer_dis=Pipeline(steps=[\n",
        "    ('imputer',SimpleImputer(strategy='most_frequent'))\n",
        "])\n",
        "\n",
        "numerical_transformer_dis"
      ],
      "metadata": {
        "id": "10mWtCItwleQ"
      },
      "execution_count": null,
      "outputs": []
    },
    {
      "cell_type": "code",
      "source": [
        "# Creating transformer for cat ordinal column\n",
        "\n",
        "categorical_transformer_OH=Pipeline(steps=[\n",
        "    ('imputer',SimpleImputer(strategy='most_frequent')),\n",
        "    ('encoder',OneHotEncoder(dtype='int64', sparse_output=False, drop='first'))\n",
        "])\n",
        "\n",
        "categorical_transformer_OH"
      ],
      "metadata": {
        "id": "PJDYHxp8_XCU"
      },
      "execution_count": null,
      "outputs": []
    },
    {
      "cell_type": "code",
      "source": [
        "# Creating transformer for cat Target column\n",
        "\n",
        "categorical_transformer_TR=Pipeline(steps=[\n",
        "    ('imputer',SimpleImputer(strategy='most_frequent')),\n",
        "    ('encoder',OrdinalEncoder(categories=cat_feature_TR_list))\n",
        "])\n",
        "\n",
        "categorical_transformer_TR"
      ],
      "metadata": {
        "id": "fbvkNDI0-stl"
      },
      "execution_count": null,
      "outputs": []
    },
    {
      "cell_type": "code",
      "source": [
        "# Combining the all transformer as a full loaded pipeline with column transformer\n",
        "\n",
        "preprocess=ColumnTransformer(\n",
        "    transformers=[\n",
        "        ('num_con',numerical_transformer_con,num_features_con.columns),\n",
        "        ('num_dis',numerical_transformer_dis,num_feature_dis.columns),\n",
        "        ('cat_OH',categorical_transformer_OH,cat_feature_OH.columns),\n",
        "        ('cat_TR',categorical_transformer_TR,cat_feature_TR.columns)\n",
        "    ]\n",
        ")\n",
        "preprocess"
      ],
      "metadata": {
        "id": "BtU0cH4RxJQY"
      },
      "execution_count": null,
      "outputs": []
    },
    {
      "cell_type": "code",
      "source": [],
      "metadata": {
        "id": "VEec0_ueCxa_"
      },
      "execution_count": null,
      "outputs": []
    }
  ]
}